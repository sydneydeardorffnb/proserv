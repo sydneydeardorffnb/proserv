{
  "cells": [
    {
      "cell_type": "markdown",
      "metadata": {
        "id": "view-in-github",
        "colab_type": "text"
      },
      "source": [
        "<a href=\"https://colab.research.google.com/github/sydneydeardorffnb/proserv/blob/main/API%20V2%20Tag%20Downloader.ipynb\" target=\"_parent\"><img src=\"https://colab.research.google.com/assets/colab-badge.svg\" alt=\"Open In Colab\"/></a>"
      ]
    },
    {
      "cell_type": "code",
      "execution_count": null,
      "metadata": {
        "id": "i7us-QDNJBZR"
      },
      "outputs": [],
      "source": []
    },
    {
      "cell_type": "markdown",
      "metadata": {
        "id": "ikn0N9IC_2hK"
      },
      "source": [
        "# Preparation\n",
        "Installing necessary libraries\n"
      ]
    },
    {
      "cell_type": "code",
      "execution_count": null,
      "metadata": {
        "colab": {
          "base_uri": "https://localhost:8080/"
        },
        "id": "z9cHSlRFga8z",
        "outputId": "b786530a-6095-4384-c815-5e0275220b73"
      },
      "outputs": [
        {
          "output_type": "stream",
          "name": "stdout",
          "text": [
            "Looking in indexes: https://pypi.org/simple, https://us-python.pkg.dev/colab-wheels/public/simple/\n",
            "Requirement already satisfied: ratelim in /usr/local/lib/python3.8/dist-packages (0.1.6)\n",
            "Requirement already satisfied: pandas in /usr/local/lib/python3.8/dist-packages (1.3.5)\n",
            "Requirement already satisfied: tenacity in /usr/local/lib/python3.8/dist-packages (8.2.1)\n",
            "Requirement already satisfied: decorator in /usr/local/lib/python3.8/dist-packages (from ratelim) (4.4.2)\n",
            "Requirement already satisfied: python-dateutil>=2.7.3 in /usr/local/lib/python3.8/dist-packages (from pandas) (2.8.2)\n",
            "Requirement already satisfied: pytz>=2017.3 in /usr/local/lib/python3.8/dist-packages (from pandas) (2022.7.1)\n",
            "Requirement already satisfied: numpy>=1.17.3 in /usr/local/lib/python3.8/dist-packages (from pandas) (1.21.6)\n",
            "Requirement already satisfied: six>=1.5 in /usr/local/lib/python3.8/dist-packages (from python-dateutil>=2.7.3->pandas) (1.15.0)\n"
          ]
        }
      ],
      "source": [
        "!pip install ratelim pandas tenacity"
      ]
    },
    {
      "cell_type": "code",
      "execution_count": null,
      "metadata": {
        "colab": {
          "base_uri": "https://localhost:8080/"
        },
        "id": "bLJcbIAPmiZp",
        "outputId": "44f9c135-a3e0-43f5-f4b1-45a3a731b47c"
      },
      "outputs": [
        {
          "output_type": "stream",
          "name": "stdout",
          "text": [
            "Looking in indexes: https://pypi.org/simple, https://us-python.pkg.dev/colab-wheels/public/simple/\n",
            "Requirement already satisfied: google-api-python-client==1.12.1 in /usr/local/lib/python3.8/dist-packages (1.12.1)\n",
            "Requirement already satisfied: six<2dev,>=1.13.0 in /usr/local/lib/python3.8/dist-packages (from google-api-python-client==1.12.1) (1.15.0)\n",
            "Requirement already satisfied: google-auth-httplib2>=0.0.3 in /usr/local/lib/python3.8/dist-packages (from google-api-python-client==1.12.1) (0.1.0)\n",
            "Requirement already satisfied: google-api-core<2dev,>=1.21.0 in /usr/local/lib/python3.8/dist-packages (from google-api-python-client==1.12.1) (1.34.0)\n",
            "Requirement already satisfied: httplib2<1dev,>=0.9.2 in /usr/local/lib/python3.8/dist-packages (from google-api-python-client==1.12.1) (0.17.4)\n",
            "Requirement already satisfied: google-auth>=1.16.0 in /usr/local/lib/python3.8/dist-packages (from google-api-python-client==1.12.1) (1.25.0)\n",
            "Requirement already satisfied: uritemplate<4dev,>=3.0.0 in /usr/local/lib/python3.8/dist-packages (from google-api-python-client==1.12.1) (3.0.1)\n",
            "Requirement already satisfied: requests<3.0.0dev,>=2.18.0 in /usr/local/lib/python3.8/dist-packages (from google-api-core<2dev,>=1.21.0->google-api-python-client==1.12.1) (2.25.1)\n",
            "Requirement already satisfied: googleapis-common-protos<2.0dev,>=1.56.2 in /usr/local/lib/python3.8/dist-packages (from google-api-core<2dev,>=1.21.0->google-api-python-client==1.12.1) (1.58.0)\n",
            "Requirement already satisfied: protobuf!=3.20.0,!=3.20.1,!=4.21.0,!=4.21.1,!=4.21.2,!=4.21.3,!=4.21.4,!=4.21.5,<4.0.0dev,>=3.19.5 in /usr/local/lib/python3.8/dist-packages (from google-api-core<2dev,>=1.21.0->google-api-python-client==1.12.1) (3.19.6)\n",
            "Requirement already satisfied: setuptools>=40.3.0 in /usr/local/lib/python3.8/dist-packages (from google-auth>=1.16.0->google-api-python-client==1.12.1) (57.4.0)\n",
            "Requirement already satisfied: cachetools<5.0,>=2.0.0 in /usr/local/lib/python3.8/dist-packages (from google-auth>=1.16.0->google-api-python-client==1.12.1) (4.2.4)\n",
            "Requirement already satisfied: rsa<5,>=3.1.4 in /usr/local/lib/python3.8/dist-packages (from google-auth>=1.16.0->google-api-python-client==1.12.1) (4.9)\n",
            "Requirement already satisfied: pyasn1-modules>=0.2.1 in /usr/local/lib/python3.8/dist-packages (from google-auth>=1.16.0->google-api-python-client==1.12.1) (0.2.8)\n",
            "Requirement already satisfied: pyasn1<0.5.0,>=0.4.6 in /usr/local/lib/python3.8/dist-packages (from pyasn1-modules>=0.2.1->google-auth>=1.16.0->google-api-python-client==1.12.1) (0.4.8)\n",
            "Requirement already satisfied: idna<3,>=2.5 in /usr/local/lib/python3.8/dist-packages (from requests<3.0.0dev,>=2.18.0->google-api-core<2dev,>=1.21.0->google-api-python-client==1.12.1) (2.10)\n",
            "Requirement already satisfied: chardet<5,>=3.0.2 in /usr/local/lib/python3.8/dist-packages (from requests<3.0.0dev,>=2.18.0->google-api-core<2dev,>=1.21.0->google-api-python-client==1.12.1) (4.0.0)\n",
            "Requirement already satisfied: certifi>=2017.4.17 in /usr/local/lib/python3.8/dist-packages (from requests<3.0.0dev,>=2.18.0->google-api-core<2dev,>=1.21.0->google-api-python-client==1.12.1) (2022.12.7)\n",
            "Requirement already satisfied: urllib3<1.27,>=1.21.1 in /usr/local/lib/python3.8/dist-packages (from requests<3.0.0dev,>=2.18.0->google-api-core<2dev,>=1.21.0->google-api-python-client==1.12.1) (1.24.3)\n"
          ]
        }
      ],
      "source": [
        "!pip install google-api-python-client==1.12.1"
      ]
    },
    {
      "cell_type": "code",
      "execution_count": null,
      "metadata": {
        "id": "r-exJtdG3XwJ"
      },
      "outputs": [],
      "source": [
        "from google.colab import auth\n",
        "auth.authenticate_user()\n",
        "from googleapiclient.discovery import build\n",
        "drive_service = build('drive', 'v3')"
      ]
    },
    {
      "cell_type": "code",
      "execution_count": null,
      "metadata": {
        "colab": {
          "base_uri": "https://localhost:8080/"
        },
        "id": "cQz__QtYiuny",
        "outputId": "9cb8a3c4-f4a8-4b15-a114-526d061908fb"
      },
      "outputs": [
        {
          "output_type": "stream",
          "name": "stdout",
          "text": [
            "Looking in indexes: https://pypi.org/simple, https://us-python.pkg.dev/colab-wheels/public/simple/\n",
            "Requirement already satisfied: google-auth==1.25.0 in /usr/local/lib/python3.8/dist-packages (1.25.0)\n",
            "Requirement already satisfied: setuptools>=40.3.0 in /usr/local/lib/python3.8/dist-packages (from google-auth==1.25.0) (57.4.0)\n",
            "Requirement already satisfied: pyasn1-modules>=0.2.1 in /usr/local/lib/python3.8/dist-packages (from google-auth==1.25.0) (0.2.8)\n",
            "Requirement already satisfied: six>=1.9.0 in /usr/local/lib/python3.8/dist-packages (from google-auth==1.25.0) (1.15.0)\n",
            "Requirement already satisfied: rsa<5,>=3.1.4 in /usr/local/lib/python3.8/dist-packages (from google-auth==1.25.0) (4.9)\n",
            "Requirement already satisfied: cachetools<5.0,>=2.0.0 in /usr/local/lib/python3.8/dist-packages (from google-auth==1.25.0) (4.2.4)\n",
            "Requirement already satisfied: pyasn1<0.5.0,>=0.4.6 in /usr/local/lib/python3.8/dist-packages (from pyasn1-modules>=0.2.1->google-auth==1.25.0) (0.4.8)\n"
          ]
        }
      ],
      "source": [
        "!pip install --upgrade google-auth==1.25.0\n"
      ]
    },
    {
      "cell_type": "code",
      "execution_count": null,
      "metadata": {
        "id": "AVHzwP0wg7vb"
      },
      "outputs": [],
      "source": [
        "!pip install --upgrade --quiet gspread\n"
      ]
    },
    {
      "cell_type": "code",
      "execution_count": null,
      "metadata": {
        "id": "6d0xJz3VzLOo"
      },
      "outputs": [],
      "source": [
        "from google.colab import auth\n",
        "auth.authenticate_user()\n",
        "\n",
        "import gspread\n",
        "from google.auth import default\n",
        "creds, _ = default()\n",
        "\n",
        "gc = gspread.authorize(creds)"
      ]
    },
    {
      "cell_type": "code",
      "execution_count": null,
      "metadata": {
        "id": "mkWbxdD-jbmx"
      },
      "outputs": [],
      "source": [
        "import numpy as np"
      ]
    },
    {
      "cell_type": "code",
      "execution_count": null,
      "metadata": {
        "id": "h42QQvaBBanh"
      },
      "outputs": [],
      "source": [
        "import requests"
      ]
    },
    {
      "cell_type": "code",
      "execution_count": null,
      "metadata": {
        "id": "0vTL3mriBfFE"
      },
      "outputs": [],
      "source": [
        "import pprint"
      ]
    },
    {
      "cell_type": "markdown",
      "metadata": {
        "id": "o4FX8oaCAHul"
      },
      "source": [
        "# Define Variables\n",
        "Enter your slug, doc name and API key"
      ]
    },
    {
      "cell_type": "code",
      "execution_count": null,
      "metadata": {
        "id": "n1YDkO0ZAVUA"
      },
      "outputs": [],
      "source": [
        "worksheet = gc.open('Downloaded Tags').sheet1\n",
        "\n",
        "#Sheet should start off completely blank."
      ]
    },
    {
      "cell_type": "code",
      "execution_count": null,
      "metadata": {
        "id": "c7WK4ESMAek7"
      },
      "outputs": [],
      "source": [
        "nationSlug = 'yourslughere'"
      ]
    },
    {
      "cell_type": "code",
      "execution_count": null,
      "metadata": {
        "id": "20ZqqltHAj-5"
      },
      "outputs": [],
      "source": [
        "apiToken = 'yourtokenhere'\n",
        "#You can get this via the developer tab in the nation settings. \n",
        "#If that tab is not available, you will need to enable Developer Tools Access in 3dna.\n",
        "#For this script, the API token must be a non-expired v2 API token"
      ]
    },
    {
      "cell_type": "markdown",
      "metadata": {
        "id": "BkxQVW7oAoPe"
      },
      "source": [
        "# Do The Thing"
      ]
    },
    {
      "cell_type": "code",
      "execution_count": null,
      "metadata": {
        "id": "zyPEkCr6ni3n"
      },
      "outputs": [],
      "source": [
        "api_key = apiToken"
      ]
    },
    {
      "cell_type": "code",
      "execution_count": null,
      "metadata": {
        "id": "MJ-MzSnWua_F"
      },
      "outputs": [],
      "source": [
        "  matchurl = ('https://' + nationSlug + '.nationbuilder.com/api/v2/signup_tags?page[size]=100'+ '&access_token=' + api_key)\n",
        "  recipientResponse = requests.get(matchurl)\n",
        "  tagsResponse = recipientResponse.json()\n",
        "  print(recipientResponse.json())"
      ]
    },
    {
      "cell_type": "code",
      "execution_count": null,
      "metadata": {
        "id": "Zn1KiH1rxWnV"
      },
      "outputs": [],
      "source": [
        "import pandas as pd\n",
        "\n",
        "import json\n",
        "# load data using Python JSON module\n",
        "df = pd.json_normalize(tagsResponse,record_path=['data'])\n",
        "print(df)"
      ]
    },
    {
      "cell_type": "code",
      "execution_count": null,
      "metadata": {
        "id": "FidexQ00rnBV"
      },
      "outputs": [],
      "source": [
        "import json\n",
        "nextUrl = tagsResponse['links']['next']\n",
        "print(nextUrl)\n",
        "relString = json.dumps(tagsResponse)\n",
        "while \"tags\" in relString:\n",
        "  nextUrl = tagsResponse['links']['next']\n",
        "  fullNextUrl = ('https://' + nationSlug + '.nationbuilder.com' + nextUrl)\n",
        "  print(fullNextUrl)\n",
        "  print(\"Go to next page\")\n",
        "  matchurl = fullNextUrl\n",
        "  recipientResponse = requests.get(matchurl)\n",
        "  tagsResponse = recipientResponse.json()\n",
        "  print(tagsResponse)\n",
        "  relString = json.dumps(tagsResponse)\n",
        "  print(relString)\n",
        "  if \"tags\" in relString:\n",
        "    df2 = pd.json_normalize(tagsResponse,record_path=['data'])\n",
        "    df = df.append(df2)\n"
      ]
    },
    {
      "cell_type": "code",
      "execution_count": null,
      "metadata": {
        "id": "Z3NWMEmxOBNp"
      },
      "outputs": [],
      "source": [
        "\n",
        "df3 = df #add new columns to be filled in by upcoming API requests\n",
        "df3.insert(3,'tag_id',' ')\n",
        "df3.insert(5,'tag_name',' ')\n",
        "df3.insert(4,'tag_count',' ')\n",
        "print(df3)"
      ]
    },
    {
      "cell_type": "code",
      "execution_count": null,
      "metadata": {
        "id": "o-obS4Vfzyk6"
      },
      "outputs": [],
      "source": [
        "df3 = df3.reset_index()\n",
        "for index, row in df3.iterrows():\n",
        "  tagGet = ('https://' + nationSlug + '.nationbuilder.com/api/v2/signup_tags/'+ row['id'] + '?fields[signup]=name,taggings_count&access_token=' + api_key)\n",
        "  print(tagGet)\n",
        "  tagResponse = requests.get(tagGet)\n",
        "  tagJson = tagResponse.json()\n",
        "  print(tagJson)\n",
        "  tagId = tagJson['data']['id']\n",
        "  tagName = tagJson['data']['attributes']['name']\n",
        "  tagCount = tagJson['data']['attributes']['taggings_count']\n",
        "  print(tagId)\n",
        "  df3.at[index,'tag_name'] = tagName\n",
        "  df3.at[index,'tag_count'] = tagCount\n",
        "  df3.at[index,'tag_id'] = tagId\n",
        "  #df3 = df3.drop(df3.columns[[0,1,2]], axis=1) #Delete useless columns that come from redundant json garbage\n",
        "  print(df3)\n",
        "  "
      ]
    },
    {
      "cell_type": "code",
      "execution_count": null,
      "metadata": {
        "id": "wGFqp3_Pwrm5"
      },
      "outputs": [],
      "source": [
        "worksheet.update([df3.columns.values.tolist()] + df3.values.tolist())\n"
      ]
    }
  ],
  "metadata": {
    "colab": {
      "collapsed_sections": [
        "ikn0N9IC_2hK"
      ],
      "provenance": [],
      "include_colab_link": true
    },
    "kernelspec": {
      "display_name": "Python 3",
      "name": "python3"
    }
  },
  "nbformat": 4,
  "nbformat_minor": 0
}